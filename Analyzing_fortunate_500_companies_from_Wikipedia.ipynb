{
  "nbformat": 4,
  "nbformat_minor": 0,
  "metadata": {
    "colab": {
      "name": "Analyzing fortunate 500 companies from Wikipedia.ipynb",
      "provenance": [],
      "collapsed_sections": [],
      "authorship_tag": "ABX9TyOryqMokvogbRL1UHFI/N9A",
      "include_colab_link": true
    },
    "kernelspec": {
      "name": "python3",
      "display_name": "Python 3"
    },
    "language_info": {
      "name": "python"
    }
  },
  "cells": [
    {
      "cell_type": "markdown",
      "metadata": {
        "id": "view-in-github",
        "colab_type": "text"
      },
      "source": [
        "<a href=\"https://colab.research.google.com/github/OwiyeD/Datawarehousing/blob/master/Analyzing_fortunate_500_companies_from_Wikipedia.ipynb\" target=\"_parent\"><img src=\"https://colab.research.google.com/assets/colab-badge.svg\" alt=\"Open In Colab\"/></a>"
      ]
    },
    {
      "cell_type": "markdown",
      "metadata": {
        "id": "FUyj7Dpd5ext"
      },
      "source": [
        "# Mining data from wikipedia"
      ]
    },
    {
      "cell_type": "code",
      "metadata": {
        "id": "LmrO5VGl5XDu"
      },
      "source": [
        "#%logstop\n",
        "#%logstart -rtq ~/.logs/DS_Data_Munging.py append\n",
        "%matplotlib inline\n",
        "import matplotlib\n",
        "import seaborn as sns\n",
        "sns.set()\n",
        "matplotlib.rcParams['figure.dpi'] = 144"
      ],
      "execution_count": null,
      "outputs": []
    },
    {
      "cell_type": "code",
      "metadata": {
        "colab": {
          "base_uri": "https://localhost:8080/",
          "height": 359
        },
        "id": "VOJMvMVo5YpE",
        "outputId": "f2fdcb20-1cc7-4073-ae06-06d891d75733"
      },
      "source": [
        "import pandas as pd\n",
        "import json\n",
        "df = pd.read_html('https://en.wikipedia.org/w/index.php?title=Fortune_Global_500&oldid=855890446', header=0)[0]\n",
        "fortune_500 = json.loads(df.to_json(orient=\"records\"))\n",
        "df"
      ],
      "execution_count": null,
      "outputs": [
        {
          "output_type": "execute_result",
          "data": {
            "text/html": [
              "<div>\n",
              "<style scoped>\n",
              "    .dataframe tbody tr th:only-of-type {\n",
              "        vertical-align: middle;\n",
              "    }\n",
              "\n",
              "    .dataframe tbody tr th {\n",
              "        vertical-align: top;\n",
              "    }\n",
              "\n",
              "    .dataframe thead th {\n",
              "        text-align: right;\n",
              "    }\n",
              "</style>\n",
              "<table border=\"1\" class=\"dataframe\">\n",
              "  <thead>\n",
              "    <tr style=\"text-align: right;\">\n",
              "      <th></th>\n",
              "      <th>Rank</th>\n",
              "      <th>Company</th>\n",
              "      <th>Country</th>\n",
              "      <th>Industry</th>\n",
              "      <th>Revenue in USD</th>\n",
              "    </tr>\n",
              "  </thead>\n",
              "  <tbody>\n",
              "    <tr>\n",
              "      <th>0</th>\n",
              "      <td>1</td>\n",
              "      <td>Walmart</td>\n",
              "      <td>United States</td>\n",
              "      <td>Retail</td>\n",
              "      <td>$500 billion</td>\n",
              "    </tr>\n",
              "    <tr>\n",
              "      <th>1</th>\n",
              "      <td>2</td>\n",
              "      <td>State Grid</td>\n",
              "      <td>China</td>\n",
              "      <td>Power</td>\n",
              "      <td>$349 billion</td>\n",
              "    </tr>\n",
              "    <tr>\n",
              "      <th>2</th>\n",
              "      <td>3</td>\n",
              "      <td>Sinopec Group</td>\n",
              "      <td>China</td>\n",
              "      <td>Petroleum</td>\n",
              "      <td>$327 billion</td>\n",
              "    </tr>\n",
              "    <tr>\n",
              "      <th>3</th>\n",
              "      <td>4</td>\n",
              "      <td>China National Petroleum</td>\n",
              "      <td>China</td>\n",
              "      <td>Petroleum</td>\n",
              "      <td>$326 billion</td>\n",
              "    </tr>\n",
              "    <tr>\n",
              "      <th>4</th>\n",
              "      <td>5</td>\n",
              "      <td>Royal Dutch Shell</td>\n",
              "      <td>Netherlands</td>\n",
              "      <td>Petroleum</td>\n",
              "      <td>$312 billion</td>\n",
              "    </tr>\n",
              "    <tr>\n",
              "      <th>5</th>\n",
              "      <td>6</td>\n",
              "      <td>Toyota Motor</td>\n",
              "      <td>Japan</td>\n",
              "      <td>Automobiles</td>\n",
              "      <td>$265 billion</td>\n",
              "    </tr>\n",
              "    <tr>\n",
              "      <th>6</th>\n",
              "      <td>7</td>\n",
              "      <td>Volkswagen</td>\n",
              "      <td>Germany</td>\n",
              "      <td>Automobiles</td>\n",
              "      <td>$260 billion</td>\n",
              "    </tr>\n",
              "    <tr>\n",
              "      <th>7</th>\n",
              "      <td>8</td>\n",
              "      <td>BP</td>\n",
              "      <td>United Kingdom</td>\n",
              "      <td>Petroleum</td>\n",
              "      <td>$245 billion</td>\n",
              "    </tr>\n",
              "    <tr>\n",
              "      <th>8</th>\n",
              "      <td>9</td>\n",
              "      <td>Exxon Mobil</td>\n",
              "      <td>United States</td>\n",
              "      <td>Petroleum</td>\n",
              "      <td>$244 billion</td>\n",
              "    </tr>\n",
              "    <tr>\n",
              "      <th>9</th>\n",
              "      <td>10</td>\n",
              "      <td>Berkshire Hathaway</td>\n",
              "      <td>United States</td>\n",
              "      <td>Products</td>\n",
              "      <td>$242 billion</td>\n",
              "    </tr>\n",
              "  </tbody>\n",
              "</table>\n",
              "</div>"
            ],
            "text/plain": [
              "   Rank                   Company         Country     Industry Revenue in USD\n",
              "0     1                   Walmart   United States       Retail   $500 billion\n",
              "1     2                State Grid           China        Power   $349 billion\n",
              "2     3             Sinopec Group           China    Petroleum   $327 billion\n",
              "3     4  China National Petroleum           China    Petroleum   $326 billion\n",
              "4     5         Royal Dutch Shell     Netherlands    Petroleum   $312 billion\n",
              "5     6              Toyota Motor           Japan  Automobiles   $265 billion\n",
              "6     7                Volkswagen         Germany  Automobiles   $260 billion\n",
              "7     8                        BP  United Kingdom    Petroleum   $245 billion\n",
              "8     9               Exxon Mobil   United States    Petroleum   $244 billion\n",
              "9    10        Berkshire Hathaway   United States     Products   $242 billion"
            ]
          },
          "metadata": {
            "tags": []
          },
          "execution_count": 2
        }
      ]
    },
    {
      "cell_type": "markdown",
      "metadata": {
        "id": "8Vx_mXjV6KJp"
      },
      "source": [
        "Lets see our data in a form of a list of dictionaries"
      ]
    },
    {
      "cell_type": "code",
      "metadata": {
        "colab": {
          "base_uri": "https://localhost:8080/"
        },
        "id": "_riNwQ3w5c1N",
        "outputId": "dfcc4d8f-c6ae-4d30-ba52-81aff91bda45"
      },
      "source": [
        "fortune_500"
      ],
      "execution_count": null,
      "outputs": [
        {
          "output_type": "execute_result",
          "data": {
            "text/plain": [
              "[{'Company': 'Walmart',\n",
              "  'Country': 'United States',\n",
              "  'Industry': 'Retail',\n",
              "  'Rank': 1,\n",
              "  'Revenue in USD': '$500 billion'},\n",
              " {'Company': 'State Grid',\n",
              "  'Country': 'China',\n",
              "  'Industry': 'Power',\n",
              "  'Rank': 2,\n",
              "  'Revenue in USD': '$349 billion'},\n",
              " {'Company': 'Sinopec Group',\n",
              "  'Country': 'China',\n",
              "  'Industry': 'Petroleum',\n",
              "  'Rank': 3,\n",
              "  'Revenue in USD': '$327 billion'},\n",
              " {'Company': 'China National Petroleum',\n",
              "  'Country': 'China',\n",
              "  'Industry': 'Petroleum',\n",
              "  'Rank': 4,\n",
              "  'Revenue in USD': '$326 billion'},\n",
              " {'Company': 'Royal Dutch Shell',\n",
              "  'Country': 'Netherlands',\n",
              "  'Industry': 'Petroleum',\n",
              "  'Rank': 5,\n",
              "  'Revenue in USD': '$312 billion'},\n",
              " {'Company': 'Toyota Motor',\n",
              "  'Country': 'Japan',\n",
              "  'Industry': 'Automobiles',\n",
              "  'Rank': 6,\n",
              "  'Revenue in USD': '$265 billion'},\n",
              " {'Company': 'Volkswagen',\n",
              "  'Country': 'Germany',\n",
              "  'Industry': 'Automobiles',\n",
              "  'Rank': 7,\n",
              "  'Revenue in USD': '$260 billion'},\n",
              " {'Company': 'BP',\n",
              "  'Country': 'United Kingdom',\n",
              "  'Industry': 'Petroleum',\n",
              "  'Rank': 8,\n",
              "  'Revenue in USD': '$245 billion'},\n",
              " {'Company': 'Exxon Mobil',\n",
              "  'Country': 'United States',\n",
              "  'Industry': 'Petroleum',\n",
              "  'Rank': 9,\n",
              "  'Revenue in USD': '$244 billion'},\n",
              " {'Company': 'Berkshire Hathaway',\n",
              "  'Country': 'United States',\n",
              "  'Industry': 'Products',\n",
              "  'Rank': 10,\n",
              "  'Revenue in USD': '$242 billion'}]"
            ]
          },
          "metadata": {
            "tags": []
          },
          "execution_count": 3
        }
      ]
    },
    {
      "cell_type": "markdown",
      "metadata": {
        "id": "ebh8_lxZBeeW"
      },
      "source": [
        "This is a great start to our analysis, however, there really isn't that much information here, we will need to bring in additional data sources to get any further understanding of these companies.\n",
        "\n",
        "The first question we might want to ask is how many employees does it take to get that revenue, in other words, what is the revenue per employee? Luckily, we can use Wikipedia to get that data as well, we have scraped this data manually (all from Wikipedia) and created the following dictionary."
      ]
    },
    {
      "cell_type": "code",
      "metadata": {
        "id": "sspHkeOU6Xje"
      },
      "source": [
        "other_data = [\n",
        "    {\"name\": \"Walmart\",\n",
        "     \"employees\": 2300000,\n",
        "     \"year founded\": 1962\n",
        "    },\n",
        "    {\"name\": \"State Grid Corporation of China\",\n",
        "     \"employees\": 927839,\n",
        "     \"year founded\": 2002},\n",
        "    {\"name\": \"China Petrochemical Corporation\",\n",
        "     \"employees\":358571,\n",
        "     \"year founded\": 1998\n",
        "     },\n",
        "    {\"name\": \"China National Petroleum Corporation\",\n",
        "     \"employees\": 1636532,\n",
        "     \"year founded\": 1988},\n",
        "    {\"name\": \"Toyota Motor Corporation\",\n",
        "     \"employees\": 364445,\n",
        "     \"year founded\": 1937},\n",
        "    {\"name\": \"Volkswagen AG\",\n",
        "     \"employees\": 642292,\n",
        "     \"year founded\": 1937},\n",
        "    {\"name\": \"Royal Dutch Shell\",\n",
        "     \"employees\": 92000,\n",
        "     \"year founded\": 1907},\n",
        "    {\"name\": \"Berkshire Hathaway Inc.\",\n",
        "     \"employees\":377000,\n",
        "     \"year founded\": 1839},\n",
        "    {\"name\": \"Apple Inc.\",\n",
        "     \"employees\": 123000,\n",
        "     \"year founded\": 1976},\n",
        "    {\"name\": \"Exxon Mobile Corporation\",\n",
        "     \"employees\": 69600,\n",
        "     \"year founded\": 1999},\n",
        "    {\"name\": \"BP plc\",\n",
        "     \"employees\": 74000,\n",
        "     \"year founded\": 1908}\n",
        "]"
      ],
      "execution_count": null,
      "outputs": []
    },
    {
      "cell_type": "markdown",
      "metadata": {
        "id": "ook3An8iB5Tn"
      },
      "source": [
        "\n",
        "Some data have a slightly different name than in our original set, so we will keep a dictionary of mappings between the two. Notice, we only include the mapping in the dictionary if there is a difference"
      ]
    },
    {
      "cell_type": "code",
      "metadata": {
        "id": "El2BrSpH7Ccm"
      },
      "source": [
        "mapping = {\n",
        "    'Apple': 'Apple Inc.',\n",
        "    'BP': 'BP plc',\n",
        "    'Berkshire Hathaway': 'Berkshire Hathaway Inc.',\n",
        "    'China National Petroleum': 'China National Petroleum Corporation',\n",
        "    'Exxon Mobil': 'Exxon Mobile Corporation',\n",
        "    'Sinopec Group': 'China Petrochemical Corporation',\n",
        "    'State Grid': 'State Grid Corporation of China',\n",
        "    'Toyota Motor': 'Toyota Motor Corporation',\n",
        "    'Volkswagen': 'Volkswagen AG'\n",
        "}"
      ],
      "execution_count": null,
      "outputs": []
    },
    {
      "cell_type": "markdown",
      "metadata": {
        "id": "YB4Ak95ACBKx"
      },
      "source": [
        "\n",
        "This data is one to one, meaning the data contained in one source only aligns with a single element in the other source, thus we should be able to put these together. However, we know that the data isn't in a great form to be joined at the moment. This is for two reasons:\n",
        "\n",
        "1. All the names will not align (we need to use our mapping)\n",
        "2. The list structure is not optimized for looking through elements.\n",
        "\n",
        "While for 10 elements the second reason won't really matter, for larger data sets such performance considerations are extremely important. We can turn this list of dictionaries into a dictionary of dictionaries, so we can quickly access each element of the data."
      ]
    },
    {
      "cell_type": "code",
      "metadata": {
        "colab": {
          "base_uri": "https://localhost:8080/"
        },
        "id": "SpsbnCsD7M5M",
        "outputId": "e5d3b01d-d315-4948-d1fd-02800db31100"
      },
      "source": [
        "\n",
        "dict_data = {k[\"name\"] : k for k in other_data}\n",
        "dict_data"
      ],
      "execution_count": null,
      "outputs": [
        {
          "output_type": "execute_result",
          "data": {
            "text/plain": [
              "{'Apple Inc.': {'employees': 123000,\n",
              "  'name': 'Apple Inc.',\n",
              "  'year founded': 1976},\n",
              " 'BP plc': {'employees': 74000, 'name': 'BP plc', 'year founded': 1908},\n",
              " 'Berkshire Hathaway Inc.': {'employees': 377000,\n",
              "  'name': 'Berkshire Hathaway Inc.',\n",
              "  'year founded': 1839},\n",
              " 'China National Petroleum Corporation': {'employees': 1636532,\n",
              "  'name': 'China National Petroleum Corporation',\n",
              "  'year founded': 1988},\n",
              " 'China Petrochemical Corporation': {'employees': 358571,\n",
              "  'name': 'China Petrochemical Corporation',\n",
              "  'year founded': 1998},\n",
              " 'Exxon Mobile Corporation': {'employees': 69600,\n",
              "  'name': 'Exxon Mobile Corporation',\n",
              "  'year founded': 1999},\n",
              " 'Royal Dutch Shell': {'employees': 92000,\n",
              "  'name': 'Royal Dutch Shell',\n",
              "  'year founded': 1907},\n",
              " 'State Grid Corporation of China': {'employees': 927839,\n",
              "  'name': 'State Grid Corporation of China',\n",
              "  'year founded': 2002},\n",
              " 'Toyota Motor Corporation': {'employees': 364445,\n",
              "  'name': 'Toyota Motor Corporation',\n",
              "  'year founded': 1937},\n",
              " 'Volkswagen AG': {'employees': 642292,\n",
              "  'name': 'Volkswagen AG',\n",
              "  'year founded': 1937},\n",
              " 'Walmart': {'employees': 2300000, 'name': 'Walmart', 'year founded': 1962}}"
            ]
          },
          "metadata": {
            "tags": []
          },
          "execution_count": 7
        }
      ]
    },
    {
      "cell_type": "markdown",
      "metadata": {
        "id": "XNmXmsPYCoDl"
      },
      "source": [
        "\n",
        "Question: If we had many entries in other_data, we could display a small piece by printing other_data[:5]. With dataframes we might use df.head(). Can you think of a way to print out a small piece of a dictionary?\n",
        "\n",
        "Now we can easily compute the revenue per employee, we need to map the \"Company\" value in our original data with the \"name\" column of this other data, but we also need to use the mapping to ensure the columns will line up. We in general don't want to mutate our original data, so lets make a new list of dictionaries with this new feature (revenue per employee). On the course of doing this, we will need to handle converting some numbers like $500 Billion to a numeric value. Lets create a function to do this."
      ]
    },
    {
      "cell_type": "code",
      "metadata": {
        "id": "OBXMhcwL7dtK"
      },
      "source": [
        "\n",
        "def convert_revenue(x):\n",
        "    return float(x.lstrip('$').rstrip('billion')) * 1e9\n",
        "\n",
        "assert convert_revenue('$500 billion') == 500e9"
      ],
      "execution_count": null,
      "outputs": []
    },
    {
      "cell_type": "markdown",
      "metadata": {
        "id": "ZamL_Csg8P2R"
      },
      "source": [
        "# functions to compute this revenue per employee and create a data list"
      ]
    },
    {
      "cell_type": "code",
      "metadata": {
        "id": "bXjlONvd8IWK"
      },
      "source": [
        "def rev_per_emp(company):\n",
        "    name = company[u'Company']\n",
        "    n_employees = dict_data[mapping.get(name, name)].get('employees')\n",
        "    company['rev per emp'] = convert_revenue(company[u'Revenue in USD'])/n_employees\n",
        "    return company\n",
        "\n",
        "def compute_copy(d, func):\n",
        "    return func({k:v for k,v in d.items()})\n",
        "\n",
        "data = list(map(lambda x : compute_copy(x, rev_per_emp), fortune_500))"
      ],
      "execution_count": null,
      "outputs": []
    },
    {
      "cell_type": "markdown",
      "metadata": {
        "id": "TqCTSRcP8t3x"
      },
      "source": [
        "Sort the values"
      ]
    },
    {
      "cell_type": "code",
      "metadata": {
        "colab": {
          "base_uri": "https://localhost:8080/"
        },
        "id": "7TUgujkz8ZqM",
        "outputId": "821dec11-9d8d-48c4-fcd4-553cea462edb"
      },
      "source": [
        "rev_per_emp = sorted([(i[u'Company'], i['rev per emp']) for i in data], \n",
        "                   key=lambda x : x[1],\n",
        "                   reverse=True)\n",
        "rev_per_emp"
      ],
      "execution_count": null,
      "outputs": [
        {
          "output_type": "execute_result",
          "data": {
            "text/plain": [
              "[('Exxon Mobil', 3505747.1264367816),\n",
              " ('Royal Dutch Shell', 3391304.347826087),\n",
              " ('BP', 3310810.810810811),\n",
              " ('Sinopec Group', 911953.2812190612),\n",
              " ('Toyota Motor', 727133.0379069544),\n",
              " ('Berkshire Hathaway', 641909.8143236075),\n",
              " ('Volkswagen', 404800.30889377417),\n",
              " ('State Grid', 376142.84374767606),\n",
              " ('Walmart', 217391.30434782608),\n",
              " ('China National Petroleum', 199201.72657790987)]"
            ]
          },
          "metadata": {
            "tags": []
          },
          "execution_count": 10
        }
      ]
    },
    {
      "cell_type": "markdown",
      "metadata": {
        "id": "UDaL7VSo9Wi4"
      },
      "source": [
        "lets pull in some other data. We can see that these companies are in a few different industries, let find out which ones."
      ]
    },
    {
      "cell_type": "code",
      "metadata": {
        "colab": {
          "base_uri": "https://localhost:8080/"
        },
        "id": "5vDMjZDp8xOR",
        "outputId": "56540f28-7581-4d3a-ffd7-f1ff0e65387e"
      },
      "source": [
        "from collections import Counter\n",
        "Counter(i[u'Industry'] for i in data)"
      ],
      "execution_count": null,
      "outputs": [
        {
          "output_type": "execute_result",
          "data": {
            "text/plain": [
              "Counter({'Automobiles': 2,\n",
              "         'Petroleum': 5,\n",
              "         'Power': 1,\n",
              "         'Products': 1,\n",
              "         'Retail': 1})"
            ]
          },
          "metadata": {
            "tags": []
          },
          "execution_count": 11
        }
      ]
    },
    {
      "cell_type": "markdown",
      "metadata": {
        "id": "Cg-4wjwg9vaW"
      },
      "source": [
        "One thing we might want to know is what sort of market share they have of the specific industry to which they belong. Let's look at the two industries that categorize the 6 of the top 10, Automobiles and Petroleum. We can select only those elements of our data to work with."
      ]
    },
    {
      "cell_type": "code",
      "metadata": {
        "colab": {
          "base_uri": "https://localhost:8080/"
        },
        "id": "uHQDo0t89gs-",
        "outputId": "04241cd9-9ec3-41ec-f052-90e9eb986aff"
      },
      "source": [
        "sub_data = [i for i in data if i[u'Industry'] in [u'Automobiles', u'Petroleum']]\n",
        "sub_data"
      ],
      "execution_count": null,
      "outputs": [
        {
          "output_type": "execute_result",
          "data": {
            "text/plain": [
              "[{'Company': 'Sinopec Group',\n",
              "  'Country': 'China',\n",
              "  'Industry': 'Petroleum',\n",
              "  'Rank': 3,\n",
              "  'Revenue in USD': '$327 billion',\n",
              "  'rev per emp': 911953.2812190612},\n",
              " {'Company': 'China National Petroleum',\n",
              "  'Country': 'China',\n",
              "  'Industry': 'Petroleum',\n",
              "  'Rank': 4,\n",
              "  'Revenue in USD': '$326 billion',\n",
              "  'rev per emp': 199201.72657790987},\n",
              " {'Company': 'Royal Dutch Shell',\n",
              "  'Country': 'Netherlands',\n",
              "  'Industry': 'Petroleum',\n",
              "  'Rank': 5,\n",
              "  'Revenue in USD': '$312 billion',\n",
              "  'rev per emp': 3391304.347826087},\n",
              " {'Company': 'Toyota Motor',\n",
              "  'Country': 'Japan',\n",
              "  'Industry': 'Automobiles',\n",
              "  'Rank': 6,\n",
              "  'Revenue in USD': '$265 billion',\n",
              "  'rev per emp': 727133.0379069544},\n",
              " {'Company': 'Volkswagen',\n",
              "  'Country': 'Germany',\n",
              "  'Industry': 'Automobiles',\n",
              "  'Rank': 7,\n",
              "  'Revenue in USD': '$260 billion',\n",
              "  'rev per emp': 404800.30889377417},\n",
              " {'Company': 'BP',\n",
              "  'Country': 'United Kingdom',\n",
              "  'Industry': 'Petroleum',\n",
              "  'Rank': 8,\n",
              "  'Revenue in USD': '$245 billion',\n",
              "  'rev per emp': 3310810.810810811},\n",
              " {'Company': 'Exxon Mobil',\n",
              "  'Country': 'United States',\n",
              "  'Industry': 'Petroleum',\n",
              "  'Rank': 9,\n",
              "  'Revenue in USD': '$244 billion',\n",
              "  'rev per emp': 3505747.1264367816}]"
            ]
          },
          "metadata": {
            "tags": []
          },
          "execution_count": 12
        }
      ]
    },
    {
      "cell_type": "markdown",
      "metadata": {
        "id": "aTqtaodj-ZpG"
      },
      "source": [
        "It might be the case that the each particular category has a different relevant metric for market share. For example, we could look at total revenue for a car company or we could look at cars produced.\n",
        "\n",
        "So for the automobile industry we will look at the percent total of cars produced. We can get this data again from Wikipedia."
      ]
    },
    {
      "cell_type": "code",
      "metadata": {
        "id": "BARpmTKu9zNo"
      },
      "source": [
        "df_list = pd.read_html(\"https://en.wikipedia.org/w/index.php?title=Automotive_industry&oldid=875776152\", header=0)\n",
        "car_totals = json.loads(df_list[0].to_json(orient=\"records\"))\n",
        "car_by_man = json.loads(df_list[2].to_json(orient='records'))"
      ],
      "execution_count": null,
      "outputs": []
    },
    {
      "cell_type": "code",
      "metadata": {
        "colab": {
          "base_uri": "https://localhost:8080/"
        },
        "id": "DoKTedEI-NJh",
        "outputId": "7e285167-3c22-42ac-a4ad-f8605f58d548"
      },
      "source": [
        "car_totals[:2]"
      ],
      "execution_count": null,
      "outputs": [
        {
          "output_type": "execute_result",
          "data": {
            "text/plain": [
              "[{'Change': '—', 'Production': 54434000, 'Source': '[17]', 'Year': 1997},\n",
              " {'Change': '2.7%', 'Production': 52987000, 'Source': '[17]', 'Year': 1998}]"
            ]
          },
          "metadata": {
            "tags": []
          },
          "execution_count": 16
        }
      ]
    },
    {
      "cell_type": "code",
      "metadata": {
        "colab": {
          "base_uri": "https://localhost:8080/"
        },
        "id": "9i76fi_j-nX3",
        "outputId": "2d921ee8-c95d-438d-c453-a3930f30c1f7"
      },
      "source": [
        "car_by_man[:2]"
      ],
      "execution_count": null,
      "outputs": [
        {
          "output_type": "execute_result",
          "data": {
            "text/plain": [
              "[{'Country': 'Japan', 'Group': 'Toyota', 'Rank': 1, 'Vehicles': 10213486},\n",
              " {'Country': 'Germany',\n",
              "  'Group': 'Volkswagen Group',\n",
              "  'Rank': 2,\n",
              "  'Vehicles': 10126281}]"
            ]
          },
          "metadata": {
            "tags": []
          },
          "execution_count": 17
        }
      ]
    },
    {
      "cell_type": "markdown",
      "metadata": {
        "id": "LtVBOyek-3oI"
      },
      "source": [
        "Now lets get only the groups we care about and divide by the total production which we will take as the latest year."
      ]
    },
    {
      "cell_type": "code",
      "metadata": {
        "colab": {
          "base_uri": "https://localhost:8080/"
        },
        "id": "EWB_NBQS-qcB",
        "outputId": "c26ef09b-2301-4ead-9374-dd2242f93f35"
      },
      "source": [
        "total_prod = sorted((i[u\"Year\"], i[u'Production']) for i in car_totals)[-1][1]\n",
        "total_prod"
      ],
      "execution_count": null,
      "outputs": [
        {
          "output_type": "execute_result",
          "data": {
            "text/plain": [
              "97302534"
            ]
          },
          "metadata": {
            "tags": []
          },
          "execution_count": 18
        }
      ]
    },
    {
      "cell_type": "markdown",
      "metadata": {
        "id": "IB8l9XQk_E0A"
      },
      "source": [
        "Now we can find the market share for each of the car companies. We will keep track of a market share dictionary. We will again need to keep track of some slight name differences."
      ]
    },
    {
      "cell_type": "code",
      "metadata": {
        "colab": {
          "base_uri": "https://localhost:8080/"
        },
        "id": "4AUUMmvV-7jV",
        "outputId": "05ff01f4-9597-4c87-8526-73de337f04b5"
      },
      "source": [
        "car_by_man_dict = {i[u'Group']:i[u'Vehicles'] for i in car_by_man}\n",
        "market_share = {}\n",
        "for name, orig_name in zip(['Toyota', 'Volkswagen Group'], ['Toyota', 'Volkswagen']):\n",
        "    market_share[orig_name] = car_by_man_dict[name]/ float(total_prod)\n",
        "    \n",
        "market_share"
      ],
      "execution_count": null,
      "outputs": [
        {
          "output_type": "execute_result",
          "data": {
            "text/plain": [
              "{'Toyota': 0.1049662899837737, 'Volkswagen': 0.10407006460900597}"
            ]
          },
          "metadata": {
            "tags": []
          },
          "execution_count": 19
        }
      ]
    },
    {
      "cell_type": "markdown",
      "metadata": {
        "id": "jJT_BtX1_btw"
      },
      "source": [
        "\n",
        "Now we can do the same for the Petroleum industry, but in this case, lets compute the market share by revenue. On Wikipedia, we can find a list of oil companies by revenue. Although its not a complete list, it has enough companies that we don't expect the companies left off the list to contribute greatly to our analysis."
      ]
    },
    {
      "cell_type": "code",
      "metadata": {
        "colab": {
          "base_uri": "https://localhost:8080/"
        },
        "id": "7UWao2hR_Pxq",
        "outputId": "a66c4877-29f6-40c6-dc98-802ce0022bf6"
      },
      "source": [
        "\n",
        "rev = pd.read_html(\"https://en.wikipedia.org/w/index.php?title=List_of_largest_oil_and_gas_companies_by_revenue&oldid=871711850\", header=1)[0]\n",
        "rev = rev.iloc[:, 1:3]\n",
        "rev.columns = ['Company', 'Revenue']\n",
        "rev = rev[~(rev['Company'] == 'Company name')]\n",
        "oil_data = json.loads(rev.to_json(orient=\"records\"))\n",
        "oil_data[:2]"
      ],
      "execution_count": null,
      "outputs": [
        {
          "output_type": "execute_result",
          "data": {
            "text/plain": [
              "[{'Company': 'Saudi Aramco', 'Revenue': '465.49'},\n",
              " {'Company': 'Sinopec Group', 'Revenue': '448.00'}]"
            ]
          },
          "metadata": {
            "tags": []
          },
          "execution_count": 20
        }
      ]
    },
    {
      "cell_type": "markdown",
      "metadata": {
        "id": "ojnFtpjS_vwb"
      },
      "source": [
        "\n",
        "Now we can compute the totals and market share. Since the data here might be slightly different (perhaps older) than our original data, we will compute the market share of each company within this data set, then pull out the numbers we care about."
      ]
    },
    {
      "cell_type": "code",
      "metadata": {
        "colab": {
          "base_uri": "https://localhost:8080/"
        },
        "id": "c1rrIp5U_gwI",
        "outputId": "26e2a884-f460-4527-a2d4-1d2fc532665e"
      },
      "source": [
        "total = sum([float(i[u'Revenue'].rstrip('*')) for i in oil_data])\n",
        "shares = {i[u'Company']:float(i[u'Revenue'].rstrip('*'))/total for i in oil_data}\n",
        "print(total)"
      ],
      "execution_count": null,
      "outputs": [
        {
          "output_type": "stream",
          "text": [
            "5482.090000000001\n"
          ],
          "name": "stdout"
        }
      ]
    },
    {
      "cell_type": "markdown",
      "metadata": {
        "id": "PqZOBYdOABzF"
      },
      "source": [
        "\n",
        "Now we can pull out the companies we care about in the petroleum industry."
      ]
    },
    {
      "cell_type": "code",
      "metadata": {
        "colab": {
          "base_uri": "https://localhost:8080/"
        },
        "id": "PWt9ITLF_9YH",
        "outputId": "fadcde0d-d441-4cc9-9786-a1e81a788334"
      },
      "source": [
        "petro_companies = [i[u'Company'] for i in data if i['Industry'] == u'Petroleum']\n",
        "petro_companies"
      ],
      "execution_count": null,
      "outputs": [
        {
          "output_type": "execute_result",
          "data": {
            "text/plain": [
              "['Sinopec Group',\n",
              " 'China National Petroleum',\n",
              " 'Royal Dutch Shell',\n",
              " 'BP',\n",
              " 'Exxon Mobil']"
            ]
          },
          "metadata": {
            "tags": []
          },
          "execution_count": 22
        }
      ]
    },
    {
      "cell_type": "markdown",
      "metadata": {
        "id": "ay9C4Q2uAQaT"
      },
      "source": [
        "Lets check if these are all in the our shares dictionary."
      ]
    },
    {
      "cell_type": "code",
      "metadata": {
        "colab": {
          "base_uri": "https://localhost:8080/"
        },
        "id": "KST6P3FsAHkd",
        "outputId": "4cb0960f-f8c6-4114-9355-fde957be76da"
      },
      "source": [
        "[(i, i in shares) for i in petro_companies]"
      ],
      "execution_count": null,
      "outputs": [
        {
          "output_type": "execute_result",
          "data": {
            "text/plain": [
              "[('Sinopec Group', True),\n",
              " ('China National Petroleum', False),\n",
              " ('Royal Dutch Shell', True),\n",
              " ('BP', True),\n",
              " ('Exxon Mobil', True)]"
            ]
          },
          "metadata": {
            "tags": []
          },
          "execution_count": 23
        }
      ]
    },
    {
      "cell_type": "markdown",
      "metadata": {
        "id": "cE-WgL7sAhGp"
      },
      "source": [
        "Some of these companies are directly there, and looking through our dictionary, we can see the others are there without exact names"
      ]
    },
    {
      "cell_type": "code",
      "metadata": {
        "colab": {
          "base_uri": "https://localhost:8080/"
        },
        "id": "wP-7HwdzAUc4",
        "outputId": "bdb74981-3504-454d-f94a-798054c4af3a"
      },
      "source": [
        "shares.keys()"
      ],
      "execution_count": null,
      "outputs": [
        {
          "output_type": "execute_result",
          "data": {
            "text/plain": [
              "dict_keys(['Saudi Aramco', 'Sinopec Group', 'China National Petroleum Corporation', 'Exxon Mobil', 'Royal Dutch Shell', 'Kuwait Petroleum Corporation', 'BP', 'Total SA', 'Lukoil', 'Eni', 'Valero Energy', 'Chevron Corporation', 'PDVSA', 'Pemex', 'National Iranian Oil Company', 'Gazprom', 'Phillips 66', 'Petronas', 'China National Offshore Oil', 'Marathon Petroleum', 'PTT', 'Rosneft', 'JX Holdings', 'Engie', 'Petrobras', 'Equinor', 'Indian Oil Corporation', 'Sonatrach', 'Reliance Industries', 'Pertamina', 'SOCAR', 'GS Caltex', 'Enterprise Products', 'Repsol', 'Centrica', 'Bharat Petroleum', 'OMV Group', 'Idemitsu Kosan', 'Hindustan Petroleum', 'PKN Orlen', 'Schlumberger', 'Suncor Energy', 'Hellenic Petroleum', 'ConocoPhillips', 'Motor Oil Hellas', 'Ecopetrol', 'CEPSA', 'MOL'])"
            ]
          },
          "metadata": {
            "tags": []
          },
          "execution_count": 24
        }
      ]
    },
    {
      "cell_type": "markdown",
      "metadata": {
        "id": "97PE3OzKAr3s"
      },
      "source": [
        "So lets make a fuzzy match, this will be a pretty simple one where it will try to match words in a name and take the maximum number of matches."
      ]
    },
    {
      "cell_type": "code",
      "metadata": {
        "id": "VOPRBWQAAlUp"
      },
      "source": [
        "\n",
        "def fuzzy_match(word, s):\n",
        "    words = set(word.split(' '))\n",
        "    overlaps = [(k, len(v.intersection(words))) for k, v in s.items()]\n",
        "    return max(overlaps, key=lambda x : x[1])[0]"
      ],
      "execution_count": null,
      "outputs": []
    },
    {
      "cell_type": "code",
      "metadata": {
        "colab": {
          "base_uri": "https://localhost:8080/"
        },
        "id": "r8ulhIWwAwJQ",
        "outputId": "b8c313da-fedb-417c-ba6b-3a47ac3d878d"
      },
      "source": [
        "split_names = {i: set(i.split(' ')) for i in shares.keys()}\n",
        "for i in petro_companies:\n",
        "    match = fuzzy_match(i, split_names)\n",
        "    print(\"matched {} to {}\".format(i, match))\n",
        "    market_share[i] = shares[match]"
      ],
      "execution_count": null,
      "outputs": [
        {
          "output_type": "stream",
          "text": [
            "matched Sinopec Group to Sinopec Group\n",
            "matched China National Petroleum to China National Petroleum Corporation\n",
            "matched Royal Dutch Shell to Royal Dutch Shell\n",
            "matched BP to BP\n",
            "matched Exxon Mobil to Exxon Mobil\n"
          ],
          "name": "stdout"
        }
      ]
    },
    {
      "cell_type": "code",
      "metadata": {
        "colab": {
          "base_uri": "https://localhost:8080/"
        },
        "id": "36jXZf60Az9E",
        "outputId": "cb2ba4b1-c677-4508-e31f-dd95c336672c"
      },
      "source": [
        "market_share"
      ],
      "execution_count": null,
      "outputs": [
        {
          "output_type": "execute_result",
          "data": {
            "text/plain": [
              "{'BP': 0.040641434197541446,\n",
              " 'China National Petroleum': 0.07818550954106918,\n",
              " 'Exxon Mobil': 0.0490506357976611,\n",
              " 'Royal Dutch Shell': 0.04833922828702191,\n",
              " 'Sinopec Group': 0.0817206576323993,\n",
              " 'Toyota': 0.1049662899837737,\n",
              " 'Volkswagen': 0.10407006460900597}"
            ]
          },
          "metadata": {
            "tags": []
          },
          "execution_count": 27
        }
      ]
    },
    {
      "cell_type": "code",
      "metadata": {
        "id": "SJ8aqUZBA8P3"
      },
      "source": [
        ""
      ],
      "execution_count": null,
      "outputs": []
    }
  ]
}