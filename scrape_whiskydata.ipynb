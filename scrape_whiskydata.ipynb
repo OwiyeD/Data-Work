{
  "nbformat": 4,
  "nbformat_minor": 0,
  "metadata": {
    "colab": {
      "name": "scrape whiskydata.ipynb",
      "provenance": [],
      "authorship_tag": "ABX9TyOljWHWTtUQTHBwiE3whfsc",
      "include_colab_link": true
    },
    "kernelspec": {
      "name": "python3",
      "display_name": "Python 3"
    },
    "language_info": {
      "name": "python"
    }
  },
  "cells": [
    {
      "cell_type": "markdown",
      "metadata": {
        "id": "view-in-github",
        "colab_type": "text"
      },
      "source": [
        "<a href=\"https://colab.research.google.com/github/OwiyeD/Datawarehousing/blob/master/scrape_whiskydata.ipynb\" target=\"_parent\"><img src=\"https://colab.research.google.com/assets/colab-badge.svg\" alt=\"Open In Colab\"/></a>"
      ]
    },
    {
      "cell_type": "code",
      "metadata": {
        "id": "Xq-CIMgJaGMC"
      },
      "source": [
        ""
      ],
      "execution_count": null,
      "outputs": []
    },
    {
      "cell_type": "markdown",
      "metadata": {
        "id": "Tyc1kUwaaZBT"
      },
      "source": [
        "# Scraping data from whisky ecomerce website\n",
        "\n",
        "Using requets to get the resources from https://www.thewhiskyexchange.com/c/35/japanese-whisky\n",
        "\n",
        "Use BeautifulSoup to parse the html data"
      ]
    },
    {
      "cell_type": "markdown",
      "metadata": {
        "id": "PhQhucnrIQVY"
      },
      "source": [
        ""
      ]
    },
    {
      "cell_type": "code",
      "metadata": {
        "colab": {
          "base_uri": "https://localhost:8080/"
        },
        "id": "WGEZBtQQI7_Q",
        "outputId": "dccceb98-64b7-4ee8-f90a-03a19be06b01"
      },
      "source": [
        "from google.colab import drive\n",
        "drive.mount('/content/drive')"
      ],
      "execution_count": null,
      "outputs": [
        {
          "output_type": "stream",
          "text": [
            "Mounted at /content/drive\n"
          ],
          "name": "stdout"
        }
      ]
    },
    {
      "cell_type": "code",
      "metadata": {
        "id": "nKZVprWiK5DA"
      },
      "source": [
        "import requests\n",
        "from bs4 import BeautifulSoup\n",
        "import pandas as pd"
      ],
      "execution_count": null,
      "outputs": []
    },
    {
      "cell_type": "markdown",
      "metadata": {
        "id": "sohdjMw7bK9l"
      },
      "source": [
        "## Get our url and headers\n",
        "\n"
      ]
    },
    {
      "cell_type": "code",
      "metadata": {
        "id": "yWF-hVkBWOC4"
      },
      "source": [
        "baseurl = \"https://www.thewhiskyexchange.com\"\n",
        "headers = {'User-Agent': 'Mozilla/5.0 (Windows NT 10.0; Win64; x64) AppleWebKit/537.36 (KHTML, like Gecko) Chrome/89.0.4389.82 Safari/537.36'}"
      ],
      "execution_count": null,
      "outputs": []
    },
    {
      "cell_type": "markdown",
      "metadata": {
        "id": "quNWIakSbeXd"
      },
      "source": [
        "Make the resource request and parse the html data therefore generating a list of all products"
      ]
    },
    {
      "cell_type": "code",
      "metadata": {
        "colab": {
          "base_uri": "https://localhost:8080/"
        },
        "id": "LQhMXR5aWXE0",
        "outputId": "2be15c6d-580d-46b5-c1d7-42b9ef06f47d"
      },
      "source": [
        "k = requests.get('https://www.thewhiskyexchange.com/c/35/japanese-whisky').text\n",
        "soup=BeautifulSoup(k,'html.parser')\n",
        "productlist = soup.find_all(\"li\",{\"class\":\"product-grid__item\"})\n",
        "print(productlist)"
      ],
      "execution_count": null,
      "outputs": [
        {
          "output_type": "stream",
          "text": [
            "[<li class=\"product-grid__item\"><a class=\"product-card\" href=\"/p/37326/akashi-red\" onclick=\"_gaq.push(['_trackEvent', 'Products-GridView', 'click', '37326 : Akashi Red'])\" title=\"Akashi Red\"><div class=\"product-card__image-container\"><img alt=\"Akashi Red\" class=\"product-card__image lazy\" data-original=\"https://img.thewhiskyexchange.com/480/japan_aka4.jpg\" height=\"4\" src=\"https://img.thewhiskyexchange.com/ph.png\" width=\"3\"/></div><div class=\"product-card__content\"><p class=\"product-card__name\"> Akashi Red </p><p class=\"product-card__meta\"> 50cl / 40% </p></div><div class=\"product-card__data\"><p class=\"product-card__price\"> £30.45 </p><p class=\"product-card__unit-price\"> (£60.90 per litre) </p></div></a></li>, <li class=\"product-grid__item\"><a class=\"product-card\" href=\"/p/37325/suntory-torys-classic\" onclick=\"_gaq.push(['_trackEvent', 'Products-GridView', 'click', '37325 : Suntory Torys Classic'])\" title=\"Suntory Torys Classic\"><div class=\"product-card__image-container\"><img alt=\"Suntory Torys Classic\" class=\"product-card__image lazy\" data-original=\"https://img.thewhiskyexchange.com/480/japan_sun20.jpg\" height=\"4\" src=\"https://img.thewhiskyexchange.com/ph.png\" width=\"3\"/></div><div class=\"product-card__content\"><p class=\"product-card__name\"> Suntory Torys Classic </p><p class=\"product-card__meta\"> 70cl / 37% </p></div><div class=\"product-card__data\"><p class=\"product-card__price\"> £30.45 </p><p class=\"product-card__unit-price\"> (£43.50 per litre) </p></div></a></li>, <li class=\"product-grid__item\"><a class=\"product-card\" href=\"/p/36362/suntory-toki\" onclick=\"_gaq.push(['_trackEvent', 'Products-GridView', 'click', '36362 : Suntory Toki'])\" title=\"Suntory Toki\"><div class=\"product-card__image-container\"><img alt=\"Suntory Toki\" class=\"product-card__image lazy\" data-original=\"https://img.thewhiskyexchange.com/480/japan_sun15.jpg\" height=\"4\" src=\"https://img.thewhiskyexchange.com/ph.png\" width=\"3\"/></div><div class=\"product-card__content\"><p class=\"product-card__name\"> Suntory Toki </p><p class=\"product-card__meta\"> 70cl / 43% </p></div><div class=\"product-card__data\"><p class=\"product-card__price\"> £31.95 </p><p class=\"product-card__unit-price\"> (£45.64 per litre) </p></div></a></li>, <li class=\"product-grid__item\"><a class=\"product-card\" href=\"/p/49001/tokinoka-white-blended-whisky\" onclick=\"_gaq.push(['_trackEvent', 'Products-GridView', 'click', '49001 : Tokinoka White Blended Whisky'])\" title=\"Tokinoka White Blended Whisky\"><div class=\"product-card__image-container\"><img alt=\"Tokinoka White Blended Whisky\" class=\"product-card__image lazy\" data-original=\"https://img.thewhiskyexchange.com/480/japan_tok2.jpg\" height=\"4\" src=\"https://img.thewhiskyexchange.com/ph.png\" width=\"3\"/></div><div class=\"product-card__content\"><p class=\"product-card__name\"> Tokinoka White Blended Whisky </p><p class=\"product-card__meta\"> 50cl / 40% </p></div><div class=\"product-card__data\"><p class=\"product-card__price\"> £32.95 </p><p class=\"product-card__unit-price\"> (£65.90 per litre) </p></div></a></li>, <li class=\"product-grid__item\"><a class=\"product-card\" href=\"/p/16917/akashi-blended-whisky\" onclick=\"_gaq.push(['_trackEvent', 'Products-GridView', 'click', '16917 : Akashi Blended Whisky'])\" title=\"Akashi Blended Whisky\"><div class=\"product-card__image-container\"><img alt=\"Akashi Blended Whisky\" class=\"product-card__image lazy\" data-original=\"https://img.thewhiskyexchange.com/480/japan_aka1.jpg\" height=\"4\" src=\"https://img.thewhiskyexchange.com/ph.png\" width=\"3\"/></div><div class=\"product-card__content\"><p class=\"product-card__name\"> Akashi Blended Whisky </p><p class=\"product-card__meta\"> 50cl / 40% </p></div><div class=\"product-card__data\"><p class=\"product-card__price\"> £32.95 </p><p class=\"product-card__unit-price\"> (£65.90 per litre) </p></div></a></li>, <li class=\"product-grid__item\"><a class=\"product-card\" href=\"/p/49821/hatozaki-blended-japanese-whisky\" onclick=\"_gaq.push(['_trackEvent', 'Products-GridView', 'click', '49821 : Hatozaki Blended Japanese Whisky'])\" title=\"Hatozaki Blended Japanese Whisky\"><div class=\"product-card__image-container\"><img alt=\"Hatozaki Blended Japanese Whisky\" class=\"product-card__image lazy\" data-original=\"https://img.thewhiskyexchange.com/480/japan_hat1.jpg\" height=\"4\" src=\"https://img.thewhiskyexchange.com/ph.png\" width=\"3\"/></div><div class=\"product-card__content\"><p class=\"product-card__name\"> Hatozaki Blended Japanese Whisky </p><p class=\"product-card__meta\"> 70cl / 40% </p></div><div class=\"product-card__data\"><p class=\"product-card__price\"> £33.95 </p><p class=\"product-card__unit-price\"> (£48.50 per litre) </p></div></a></li>, <li class=\"product-grid__item\"><a class=\"product-card\" href=\"/p/57521/suntory-toki-glass-pack\" onclick=\"_gaq.push(['_trackEvent', 'Products-GridView', 'click', '57521 : Suntory Toki / Glass Pack'])\" title=\" Suntory Toki Glass Pack\"><div class=\"product-card__image-container\"><img alt=\" Suntory TokiGlass Pack\" class=\"product-card__image lazy\" data-original=\"https://img.thewhiskyexchange.com/480/japan_sun34.jpg\" height=\"4\" src=\"https://img.thewhiskyexchange.com/ph.png\" width=\"3\"/></div><div class=\"product-card__content\"><p class=\"product-card__name\"> Suntory Toki<span class=\"product-card__name-secondary\">Glass Pack</span></p><p class=\"product-card__meta\"> 70cl / 43% </p></div><div class=\"product-card__data\"><p class=\"product-card__price\"> £34.95 </p><p class=\"product-card__unit-price\"> (£49.93 per litre) </p></div></a></li>, <li class=\"product-grid__item\"><a class=\"product-card\" href=\"/p/45577/nikka-days\" onclick=\"_gaq.push(['_trackEvent', 'Products-GridView', 'click', '45577 : Nikka Days'])\" title=\"Nikka Days\"><div class=\"product-card__image-container\"><img alt=\"Nikka Days\" class=\"product-card__image lazy\" data-original=\"https://img.thewhiskyexchange.com/480/japan_nik47.jpg\" height=\"4\" src=\"https://img.thewhiskyexchange.com/ph.png\" width=\"3\"/></div><div class=\"product-card__content\"><p class=\"product-card__name\"> Nikka Days </p><p class=\"product-card__meta\"> 70cl / 40% </p></div><div class=\"product-card__data\"><p class=\"product-card__price\"> £38.95 </p><p class=\"product-card__unit-price\"> (£55.64 per litre) </p></div></a></li>, <li class=\"product-grid__item\"><a class=\"product-card\" href=\"/p/48272/mars-kasei-blended-whisky\" onclick=\"_gaq.push(['_trackEvent', 'Products-GridView', 'click', '48272 : Mars Kasei Blended Whisky'])\" title=\"Mars Kasei Blended Whisky\"><div class=\"product-card__image-container\"><img alt=\"Mars Kasei Blended Whisky\" class=\"product-card__image lazy\" data-original=\"https://img.thewhiskyexchange.com/480/japan_mar8.jpg\" height=\"4\" src=\"https://img.thewhiskyexchange.com/ph.png\" width=\"3\"/></div><div class=\"product-card__content\"><p class=\"product-card__name\"> Mars Kasei Blended Whisky </p><p class=\"product-card__meta\"> 70cl / 40% </p></div><div class=\"product-card__data\"><p class=\"product-card__price\"> £42.95 </p><p class=\"product-card__unit-price\"> (£61.36 per litre) </p></div></a></li>, <li class=\"product-grid__item\"><a class=\"product-card\" href=\"/p/2928/nikka-from-the-barrel\" onclick=\"_gaq.push(['_trackEvent', 'Products-GridView', 'click', '2928 : Nikka From the Barrel'])\" title=\"Nikka From the Barrel\"><div class=\"product-card__image-container\"><img alt=\"Nikka From the Barrel\" class=\"product-card__image lazy\" data-original=\"https://img.thewhiskyexchange.com/480/japan_nik10.jpg\" height=\"4\" src=\"https://img.thewhiskyexchange.com/ph.png\" width=\"3\"/></div><div class=\"product-card__content\"><p class=\"product-card__name\"> Nikka From the Barrel </p><p class=\"product-card__meta\"> 50cl / 51.4% </p></div><div class=\"product-card__data\"><p class=\"product-card__price\"> £42.95 </p><p class=\"product-card__unit-price\"> (£85.90 per litre) </p></div></a></li>, <li class=\"product-grid__item\"><a class=\"product-card\" href=\"/p/24587/togouchi-premium-blended-whisky\" onclick=\"_gaq.push(['_trackEvent', 'Products-GridView', 'click', '24587 : Togouchi Premium Blended Whisky'])\" title=\"Togouchi Premium Blended Whisky\"><div class=\"product-card__image-container\"><img alt=\"Togouchi Premium Blended Whisky\" class=\"product-card__image lazy\" data-original=\"https://img.thewhiskyexchange.com/480/japan_tog1.jpg\" height=\"4\" src=\"https://img.thewhiskyexchange.com/ph.png\" width=\"3\"/></div><div class=\"product-card__content\"><p class=\"product-card__name\"> Togouchi Premium Blended Whisky </p><p class=\"product-card__meta\"> 70cl / 40% </p></div><div class=\"product-card__data\"><p class=\"product-card__price\"> £45.25 </p><p class=\"product-card__unit-price\"> (£64.64 per litre) </p></div></a></li>, <li class=\"product-grid__item\"><a class=\"product-card\" href=\"/p/2935/nikka-pure-malt-red\" onclick=\"_gaq.push(['_trackEvent', 'Products-GridView', 'click', '2935 : Nikka Pure Malt Red'])\" title=\"Nikka Pure Malt Red\"><div class=\"product-card__image-container\"><img alt=\"Nikka Pure Malt Red\" class=\"product-card__image lazy\" data-original=\"https://img.thewhiskyexchange.com/480/japan_nik8.jpg\" height=\"4\" src=\"https://img.thewhiskyexchange.com/ph.png\" width=\"3\"/></div><div class=\"product-card__content\"><p class=\"product-card__name\"> Nikka Pure Malt Red </p><p class=\"product-card__meta\"> 50cl / 43% </p></div><div class=\"product-card__data\"><p class=\"product-card__price\"> £46.45 </p><p class=\"product-card__unit-price\"> (£92.90 per litre) </p></div></a></li>, <li class=\"product-grid__item\"><a class=\"product-card\" href=\"/p/49822/hatozaki-pure-malt-japanese-whisky\" onclick=\"_gaq.push(['_trackEvent', 'Products-GridView', 'click', '49822 : Hatozaki Pure Malt Japanese Whisky'])\" title=\"Hatozaki Pure Malt Japanese Whisky\"><div class=\"product-card__image-container\"><img alt=\"Hatozaki Pure Malt Japanese Whisky\" class=\"product-card__image lazy\" data-original=\"https://img.thewhiskyexchange.com/480/japan_hat2.jpg\" height=\"4\" src=\"https://img.thewhiskyexchange.com/ph.png\" width=\"3\"/></div><div class=\"product-card__content\"><p class=\"product-card__name\"> Hatozaki Pure Malt Japanese Whisky </p><p class=\"product-card__meta\"> 70cl / 46% </p></div><div class=\"product-card__data\"><p class=\"product-card__price\"> £47.45 </p><p class=\"product-card__unit-price\"> (£67.79 per litre) </p></div></a></li>, <li class=\"product-grid__item\"><a class=\"product-card\" href=\"/p/34970/tokinoka-black-blended-whisky\" onclick=\"_gaq.push(['_trackEvent', 'Products-GridView', 'click', '34970 : Tokinoka Black Blended Whisky'])\" title=\"Tokinoka Black Blended Whisky\"><div class=\"product-card__image-container\"><img alt=\"Tokinoka Black Blended Whisky\" class=\"product-card__image lazy\" data-original=\"https://img.thewhiskyexchange.com/480/japan_tok1.jpg\" height=\"4\" src=\"https://img.thewhiskyexchange.com/ph.png\" width=\"3\"/></div><div class=\"product-card__content\"><p class=\"product-card__name\"> Tokinoka Black Blended Whisky </p><p class=\"product-card__meta\"> 50cl / 50% </p></div><div class=\"product-card__data\"><p class=\"product-card__price\"> £47.95 </p><p class=\"product-card__unit-price\"> (£95.90 per litre) </p></div></a></li>, <li class=\"product-grid__item\"><a class=\"product-card\" href=\"/p/37317/suntory-chita-whisky\" onclick=\"_gaq.push(['_trackEvent', 'Products-GridView', 'click', '37317 : Suntory Chita Whisky'])\" title=\"Suntory Chita Whisky\"><div class=\"product-card__image-container\"><img alt=\"Suntory Chita Whisky\" class=\"product-card__image lazy\" data-original=\"https://img.thewhiskyexchange.com/480/japan_sun17.jpg\" height=\"4\" src=\"https://img.thewhiskyexchange.com/ph.png\" width=\"3\"/></div><div class=\"product-card__content\"><p class=\"product-card__name\"> Suntory Chita Whisky </p><p class=\"product-card__meta\"> 70cl / 43% </p></div><div class=\"product-card__data\"><p class=\"product-card__price\"> £49.95 </p><p class=\"product-card__unit-price\"> (£71.36 per litre) </p></div></a></li>, <li class=\"product-grid__item\"><a class=\"product-card\" href=\"/p/30377/super-nikka-rare-old\" onclick=\"_gaq.push(['_trackEvent', 'Products-GridView', 'click', '30377 : Super Nikka / Rare Old'])\" title=\" Super Nikka Rare Old\"><div class=\"product-card__image-container\"><img alt=\" Super NikkaRare Old\" class=\"product-card__image lazy\" data-original=\"https://img.thewhiskyexchange.com/480/japan_nik35.jpg\" height=\"4\" src=\"https://img.thewhiskyexchange.com/ph.png\" width=\"3\"/></div><div class=\"product-card__content\"><p class=\"product-card__name\"> Super Nikka<span class=\"product-card__name-secondary\">Rare Old</span></p><p class=\"product-card__meta\"> 70cl / 43% </p></div><div class=\"product-card__data\"><p class=\"product-card__price\"> £50.25 </p><p class=\"product-card__unit-price\"> (£71.79 per litre) </p></div></a></li>, <li class=\"product-grid__item\"><a class=\"product-card\" href=\"/p/23928/nikka-coffey-grain-whisky\" onclick=\"_gaq.push(['_trackEvent', 'Products-GridView', 'click', '23928 : Nikka Coffey Grain Whisky'])\" title=\"Nikka Coffey Grain Whisky\"><div class=\"product-card__image-container\"><img alt=\"Nikka Coffey Grain Whisky\" class=\"product-card__image lazy\" data-original=\"https://img.thewhiskyexchange.com/480/japan_nik24.jpg\" height=\"4\" src=\"https://img.thewhiskyexchange.com/ph.png\" width=\"3\"/><div class=\"product-extras product-extras--grid\"><div class=\"product-extras-banner\"><img alt=\"Available with Engraving\" class=\"product-extras-banner__image\" height=\"37\" src=\"/media/rtwe/assets/application/images/widgets/engraving-sm.png\" width=\"198\"/></div></div></div><div class=\"product-card__content\"><p class=\"product-card__name\"> Nikka Coffey Grain Whisky </p><p class=\"product-card__meta\"> 70cl / 45% </p></div><div class=\"product-card__data\"><p class=\"product-card__price\"> £54.95 </p><p class=\"product-card__unit-price\"> (£78.50 per litre) </p></div></a></li>, <li class=\"product-grid__item\"><a class=\"product-card\" href=\"/p/57245/enso-japanese-whisky\" onclick=\"_gaq.push(['_trackEvent', 'Products-GridView', 'click', '57245 : Enso Japanese Whisky'])\" title=\"Enso Japanese Whisky\"><div class=\"product-card__image-container\"><img alt=\"Enso Japanese Whisky\" class=\"product-card__image lazy\" data-original=\"https://img.thewhiskyexchange.com/480/japan_ens1.jpg\" height=\"4\" src=\"https://img.thewhiskyexchange.com/ph.png\" width=\"3\"/></div><div class=\"product-card__content\"><p class=\"product-card__name\"> Enso Japanese Whisky </p><p class=\"product-card__meta\"> 70cl / 40% </p></div><div class=\"product-card__data\"><p class=\"product-card__price\"> £55.95 </p><p class=\"product-card__unit-price\"> (£79.93 per litre) </p></div></a></li>, <li class=\"product-grid__item\"><a class=\"product-card\" href=\"/p/29679/mars-maltage-cosmo\" onclick=\"_gaq.push(['_trackEvent', 'Products-GridView', 'click', '29679 : Mars Maltage Cosmo'])\" title=\"Mars Maltage Cosmo\"><div class=\"product-card__image-container\"><img alt=\"Mars Maltage Cosmo\" class=\"product-card__image lazy\" data-original=\"https://img.thewhiskyexchange.com/480/japan_mar4.jpg\" height=\"4\" src=\"https://img.thewhiskyexchange.com/ph.png\" width=\"3\"/></div><div class=\"product-card__content\"><p class=\"product-card__name\"> Mars Maltage Cosmo </p><p class=\"product-card__meta\"> 70cl / 43% </p></div><div class=\"product-card__data\"><p class=\"product-card__price\"> £55.95 </p><p class=\"product-card__unit-price\"> (£79.93 per litre) </p></div></a></li>, <li class=\"product-grid__item\"><a class=\"product-card\" href=\"/p/24156/nikka-coffey-malt-whisky\" onclick=\"_gaq.push(['_trackEvent', 'Products-GridView', 'click', '24156 : Nikka Coffey Malt Whisky'])\" title=\"Nikka Coffey Malt Whisky\"><div class=\"product-card__image-container\"><img alt=\"Nikka Coffey Malt Whisky\" class=\"product-card__image lazy\" data-original=\"https://img.thewhiskyexchange.com/480/japan_nik25.jpg\" height=\"4\" src=\"https://img.thewhiskyexchange.com/ph.png\" width=\"3\"/></div><div class=\"product-card__content\"><p class=\"product-card__name\"> Nikka Coffey Malt Whisky </p><p class=\"product-card__meta\"> 70cl / 45% </p></div><div class=\"product-card__data\"><p class=\"product-card__price\"> £58.45 </p><p class=\"product-card__unit-price\"> (£83.50 per litre) </p></div></a></li>, <li class=\"product-grid__item\"><a class=\"product-card\" href=\"/p/33964/suntory-kakubin-yellow-label\" onclick=\"_gaq.push(['_trackEvent', 'Products-GridView', 'click', '33964 : Suntory Kakubin Yellow Label'])\" title=\"Suntory Kakubin Yellow Label\"><div class=\"product-card__image-container\"><img alt=\"Suntory Kakubin Yellow Label\" class=\"product-card__image lazy\" data-original=\"https://img.thewhiskyexchange.com/480/japan_sun13.jpg\" height=\"4\" src=\"https://img.thewhiskyexchange.com/ph.png\" width=\"3\"/></div><div class=\"product-card__content\"><p class=\"product-card__name\"> Suntory Kakubin Yellow Label </p><p class=\"product-card__meta\"> 70cl / 40% </p></div><div class=\"product-card__data\"><p class=\"product-card__price\"> £59.45 </p><p class=\"product-card__unit-price\"> (£84.93 per litre) </p></div></a></li>, <li class=\"product-grid__item\"><a class=\"product-card\" href=\"/p/56192/nikka-taketsuru-pure-malt-2020-release\" onclick=\"_gaq.push(['_trackEvent', 'Products-GridView', 'click', '56192 : Nikka Taketsuru Pure Malt / 2020 Release'])\" title=\" Nikka Taketsuru Pure Malt 2020 Release\"><div class=\"product-card__image-container\"><img alt=\" Nikka Taketsuru Pure Malt2020 Release\" class=\"product-card__image lazy\" data-original=\"https://img.thewhiskyexchange.com/480/japan_tak13.jpg\" height=\"4\" src=\"https://img.thewhiskyexchange.com/ph.png\" width=\"3\"/></div><div class=\"product-card__content\"><p class=\"product-card__name\"> Nikka Taketsuru Pure Malt<span class=\"product-card__name-secondary\">2020 Release</span></p><p class=\"product-card__meta\"> 70cl / 43% </p></div><div class=\"product-card__data\"><p class=\"product-card__price\"> £59.95 </p><p class=\"product-card__unit-price\"> (£85.64 per litre) </p></div></a></li>, <li class=\"product-grid__item\"><a class=\"product-card\" href=\"/p/23771/suntory-hakushu-distillers-reserve\" onclick=\"_gaq.push(['_trackEvent', 'Products-GridView', 'click', '23771 : Suntory Hakushu Distillers Reserve'])\" title=\"Suntory Hakushu Distiller's Reserve\"><div class=\"product-card__image-container\"><img alt=\"Suntory Hakushu Distiller's Reserve\" class=\"product-card__image lazy\" data-original=\"https://img.thewhiskyexchange.com/480/japan_hak16.jpg\" height=\"4\" src=\"https://img.thewhiskyexchange.com/ph.png\" width=\"3\"/><div class=\"product-extras product-extras--grid\"><div class=\"product-extras-banner\"><img alt=\"Available with Engraving\" class=\"product-extras-banner__image\" height=\"37\" src=\"/media/rtwe/assets/application/images/widgets/engraving-sm.png\" width=\"198\"/></div></div></div><div class=\"product-card__content\"><p class=\"product-card__name\"> Suntory Hakushu Distiller's Reserve </p><p class=\"product-card__meta\"> 70cl / 43% </p></div><div class=\"product-card__data\"><p class=\"product-card__price\"> £66.95 </p><p class=\"product-card__unit-price\"> (£95.64 per litre) </p></div></a></li>, <li class=\"product-grid__item\"><a class=\"product-card\" href=\"/p/23772/suntory-yamazaki-distillers-reserve\" onclick=\"_gaq.push(['_trackEvent', 'Products-GridView', 'click', '23772 : Suntory Yamazaki Distillers Reserve'])\" title=\"Suntory Yamazaki Distiller's Reserve\"><div class=\"product-card__image-container\"><img alt=\"Suntory Yamazaki Distiller's Reserve\" class=\"product-card__image lazy\" data-original=\"https://img.thewhiskyexchange.com/480/japan_yam29.jpg\" height=\"4\" src=\"https://img.thewhiskyexchange.com/ph.png\" width=\"3\"/></div><div class=\"product-card__content\"><p class=\"product-card__name\"> Suntory Yamazaki Distiller's Reserve </p><p class=\"product-card__meta\"> 70cl / 43% </p></div><div class=\"product-card__data\"><p class=\"product-card__price\"> £68.95 </p><p class=\"product-card__unit-price\"> (£98.50 per litre) </p></div></a></li>]\n"
          ],
          "name": "stdout"
        }
      ]
    },
    {
      "cell_type": "code",
      "metadata": {
        "id": "R2CgwPZnWcc7"
      },
      "source": [
        "productlinks = []\n",
        "for product in productlist:\n",
        "        link = product.find(\"a\",{\"class\":\"product-card\"}).get('href')                 \n",
        "        productlinks.append(baseurl + link)\n"
      ],
      "execution_count": null,
      "outputs": []
    },
    {
      "cell_type": "markdown",
      "metadata": {
        "id": "Xf8eDAYTbvCj"
      },
      "source": [
        "Get a link to every product's page"
      ]
    },
    {
      "cell_type": "code",
      "metadata": {
        "id": "g7nHK2n4WqhH"
      },
      "source": [
        "productlinks = []\n",
        "for x in range(1,6):  \n",
        " k = requests.get('https://www.thewhiskyexchange.com/c/35/japanese-whisky?pg={}&psize=24&sort=pasc'.format(x)).text  \n",
        " soup=BeautifulSoup(k,'html.parser')  \n",
        " productlist = soup.find_all(\"li\",{\"class\":\"product-grid__item\"})\n",
        " \n",
        " for product in productlist:\n",
        "   link = product.find(\"a\",{\"class\":\"product-card\"}).get('href')\n",
        "   productlinks.append(baseurl + link)"
      ],
      "execution_count": null,
      "outputs": []
    },
    {
      "cell_type": "code",
      "metadata": {
        "id": "IVQGri7HgCN7"
      },
      "source": [
        "<div class=\"product-main__image-container\">\n",
        "<img src=\"https://img.thewhiskyexchange.com/900/japan_sun15.jpg\" alt=\"Suntory Toki\" class=\"product-main__image\" width=\"3\" height=\"4\">\n",
        "</div>"
      ],
      "execution_count": null,
      "outputs": []
    },
    {
      "cell_type": "code",
      "metadata": {
        "id": "2Js3kSlGWwm6"
      },
      "source": [
        "data=[]\n",
        "for link in productlinks:\n",
        "    f = requests.get(link,headers=headers).text\n",
        "    hun=BeautifulSoup(f,'html.parser')\n",
        "\n",
        "    try:\n",
        "        price=hun.find(\"p\",{\"class\":\"product-action__price\"}).text.replace('\\n',\"\")\n",
        "    except:\n",
        "        price = None\n",
        "\n",
        "    try:\n",
        "        about=hun.find(\"div\",{\"class\":\"product-main__description\"}).text.replace('\\n',\"\")\n",
        "    except:\n",
        "        about=None\n",
        "\n",
        "    try:\n",
        "        rating = hun.find(\"div\",{\"class\":\"review-overview\"}).text.replace('\\n',\"\")\n",
        "    except:\n",
        "        rating=None\n",
        "\n",
        "    try:\n",
        "        name=hun.find(\"h1\",{\"class\":\"product-main__name\"}).text.replace('\\n',\"\")\n",
        "    except:\n",
        "        name=None\n",
        "    try:\n",
        "      image_class = h.find(\"div\", {\"class\": \"product-main__image-container\"})\n",
        "      image = image_class.find('img')\n",
        "      if image not in data:\n",
        "        image = image.get('src')\n",
        "    except:\n",
        "      image=None\n",
        "\n",
        "    whisky = {\"name\":name,\"price\":price,\"rating\":rating,\"about\":about, \"image\":image}\n",
        "\n",
        "    data.append(whisky)"
      ],
      "execution_count": null,
      "outputs": []
    },
    {
      "cell_type": "code",
      "metadata": {
        "id": "u8IlT5sMq1QW"
      },
      "source": [
        "result = []\n",
        "for li in productlinks:\n",
        "  f = requests.get(li,headers=headers).text\n",
        "  h=BeautifulSoup(f,'html.parser')\n",
        "  try:\n",
        "    image = h.find(\"div\", {\"class\": \"product-main__image-container\"})\n",
        "    name = image.find('img')\n",
        "    if name not in result:\n",
        "      result.append(name.get('src'))\n",
        "  except:\n",
        "    name=None\n",
        "result"
      ],
      "execution_count": null,
      "outputs": []
    },
    {
      "cell_type": "code",
      "metadata": {
        "colab": {
          "base_uri": "https://localhost:8080/",
          "height": 359
        },
        "id": "GHXo6iHnXHJD",
        "outputId": "8a766e37-03f0-4710-e764-9c32a50925e9"
      },
      "source": [
        "df = pd.DataFrame(data)\n",
        "\n",
        "df.head(10)"
      ],
      "execution_count": null,
      "outputs": [
        {
          "output_type": "execute_result",
          "data": {
            "text/html": [
              "<div>\n",
              "<style scoped>\n",
              "    .dataframe tbody tr th:only-of-type {\n",
              "        vertical-align: middle;\n",
              "    }\n",
              "\n",
              "    .dataframe tbody tr th {\n",
              "        vertical-align: top;\n",
              "    }\n",
              "\n",
              "    .dataframe thead th {\n",
              "        text-align: right;\n",
              "    }\n",
              "</style>\n",
              "<table border=\"1\" class=\"dataframe\">\n",
              "  <thead>\n",
              "    <tr style=\"text-align: right;\">\n",
              "      <th></th>\n",
              "      <th>name</th>\n",
              "      <th>price</th>\n",
              "      <th>rating</th>\n",
              "      <th>about</th>\n",
              "      <th>image</th>\n",
              "    </tr>\n",
              "  </thead>\n",
              "  <tbody>\n",
              "    <tr>\n",
              "      <th>0</th>\n",
              "      <td>Akashi Red</td>\n",
              "      <td>£30.45</td>\n",
              "      <td>4(1 Review)</td>\n",
              "      <td>Akashi Red is made at the Eigashima (aka White...</td>\n",
              "      <td>https://img.thewhiskyexchange.com/900/japan_ha...</td>\n",
              "    </tr>\n",
              "    <tr>\n",
              "      <th>1</th>\n",
              "      <td>Suntory Torys Classic</td>\n",
              "      <td>£30.45</td>\n",
              "      <td>3.5(2 Reviews)</td>\n",
              "      <td>Suntory Torys Classic is a light and easy-drin...</td>\n",
              "      <td>https://img.thewhiskyexchange.com/900/japan_ha...</td>\n",
              "    </tr>\n",
              "    <tr>\n",
              "      <th>2</th>\n",
              "      <td>Suntory Toki</td>\n",
              "      <td>£31.95</td>\n",
              "      <td>4(32 Reviews)</td>\n",
              "      <td>Toki is a blended whisky from Suntory's three ...</td>\n",
              "      <td>https://img.thewhiskyexchange.com/900/japan_ha...</td>\n",
              "    </tr>\n",
              "    <tr>\n",
              "      <th>3</th>\n",
              "      <td>Tokinoka White Blended Whisky</td>\n",
              "      <td>£32.95</td>\n",
              "      <td>None</td>\n",
              "      <td>A Japanese blended whisky from White Oak disti...</td>\n",
              "      <td>https://img.thewhiskyexchange.com/900/japan_ha...</td>\n",
              "    </tr>\n",
              "    <tr>\n",
              "      <th>4</th>\n",
              "      <td>Akashi Blended Whisky</td>\n",
              "      <td>£32.95</td>\n",
              "      <td>3.5(19 Reviews)</td>\n",
              "      <td>A lesser-known whisky outside the local Japane...</td>\n",
              "      <td>https://img.thewhiskyexchange.com/900/japan_ha...</td>\n",
              "    </tr>\n",
              "    <tr>\n",
              "      <th>5</th>\n",
              "      <td>Hatozaki Blended Japanese Whisky</td>\n",
              "      <td>£33.95</td>\n",
              "      <td>3(3 Reviews)</td>\n",
              "      <td>Named after the oldest stone lighthouse in Jap...</td>\n",
              "      <td>https://img.thewhiskyexchange.com/900/japan_ha...</td>\n",
              "    </tr>\n",
              "    <tr>\n",
              "      <th>6</th>\n",
              "      <td>Suntory TokiGlass Pack</td>\n",
              "      <td>£34.95</td>\n",
              "      <td>None</td>\n",
              "      <td>A lovely gift set from Suntory, including a bo...</td>\n",
              "      <td>https://img.thewhiskyexchange.com/900/japan_ha...</td>\n",
              "    </tr>\n",
              "    <tr>\n",
              "      <th>7</th>\n",
              "      <td>Nikka Days</td>\n",
              "      <td>£38.95</td>\n",
              "      <td>5(2 Reviews)</td>\n",
              "      <td>A vibrant addition to the Nikka range, Nikka D...</td>\n",
              "      <td>https://img.thewhiskyexchange.com/900/japan_ha...</td>\n",
              "    </tr>\n",
              "    <tr>\n",
              "      <th>8</th>\n",
              "      <td>Mars Kasei Blended Whisky</td>\n",
              "      <td>£42.95</td>\n",
              "      <td>5(1 Review)</td>\n",
              "      <td>Mars Kasei blended whisky is a soft, rounded w...</td>\n",
              "      <td>https://img.thewhiskyexchange.com/900/japan_ha...</td>\n",
              "    </tr>\n",
              "    <tr>\n",
              "      <th>9</th>\n",
              "      <td>Nikka From the Barrel</td>\n",
              "      <td>£42.95</td>\n",
              "      <td>4.5(108 Reviews)</td>\n",
              "      <td>Nikka from the Barrel is big-boned and burstin...</td>\n",
              "      <td>https://img.thewhiskyexchange.com/900/japan_ha...</td>\n",
              "    </tr>\n",
              "  </tbody>\n",
              "</table>\n",
              "</div>"
            ],
            "text/plain": [
              "                               name  ...                                              image\n",
              "0                        Akashi Red  ...  https://img.thewhiskyexchange.com/900/japan_ha...\n",
              "1             Suntory Torys Classic  ...  https://img.thewhiskyexchange.com/900/japan_ha...\n",
              "2                      Suntory Toki  ...  https://img.thewhiskyexchange.com/900/japan_ha...\n",
              "3     Tokinoka White Blended Whisky  ...  https://img.thewhiskyexchange.com/900/japan_ha...\n",
              "4             Akashi Blended Whisky  ...  https://img.thewhiskyexchange.com/900/japan_ha...\n",
              "5  Hatozaki Blended Japanese Whisky  ...  https://img.thewhiskyexchange.com/900/japan_ha...\n",
              "6            Suntory TokiGlass Pack  ...  https://img.thewhiskyexchange.com/900/japan_ha...\n",
              "7                        Nikka Days  ...  https://img.thewhiskyexchange.com/900/japan_ha...\n",
              "8         Mars Kasei Blended Whisky  ...  https://img.thewhiskyexchange.com/900/japan_ha...\n",
              "9             Nikka From the Barrel  ...  https://img.thewhiskyexchange.com/900/japan_ha...\n",
              "\n",
              "[10 rows x 5 columns]"
            ]
          },
          "metadata": {
            "tags": []
          },
          "execution_count": 38
        }
      ]
    },
    {
      "cell_type": "code",
      "metadata": {
        "colab": {
          "base_uri": "https://localhost:8080/"
        },
        "id": "hohincWsXT-y",
        "outputId": "00288974-f3f3-437f-a409-f8cc671c96c0"
      },
      "source": [
        "!pip install Selenium"
      ],
      "execution_count": null,
      "outputs": [
        {
          "output_type": "stream",
          "text": [
            "Collecting Selenium\n",
            "  Downloading selenium-3.141.0-py2.py3-none-any.whl (904 kB)\n",
            "\u001b[?25l\r\u001b[K     |▍                               | 10 kB 16.5 MB/s eta 0:00:01\r\u001b[K     |▊                               | 20 kB 19.3 MB/s eta 0:00:01\r\u001b[K     |█                               | 30 kB 23.5 MB/s eta 0:00:01\r\u001b[K     |█▌                              | 40 kB 16.7 MB/s eta 0:00:01\r\u001b[K     |█▉                              | 51 kB 8.6 MB/s eta 0:00:01\r\u001b[K     |██▏                             | 61 kB 8.9 MB/s eta 0:00:01\r\u001b[K     |██▌                             | 71 kB 7.3 MB/s eta 0:00:01\r\u001b[K     |███                             | 81 kB 8.1 MB/s eta 0:00:01\r\u001b[K     |███▎                            | 92 kB 8.8 MB/s eta 0:00:01\r\u001b[K     |███▋                            | 102 kB 7.3 MB/s eta 0:00:01\r\u001b[K     |████                            | 112 kB 7.3 MB/s eta 0:00:01\r\u001b[K     |████▍                           | 122 kB 7.3 MB/s eta 0:00:01\r\u001b[K     |████▊                           | 133 kB 7.3 MB/s eta 0:00:01\r\u001b[K     |█████                           | 143 kB 7.3 MB/s eta 0:00:01\r\u001b[K     |█████▍                          | 153 kB 7.3 MB/s eta 0:00:01\r\u001b[K     |█████▉                          | 163 kB 7.3 MB/s eta 0:00:01\r\u001b[K     |██████▏                         | 174 kB 7.3 MB/s eta 0:00:01\r\u001b[K     |██████▌                         | 184 kB 7.3 MB/s eta 0:00:01\r\u001b[K     |██████▉                         | 194 kB 7.3 MB/s eta 0:00:01\r\u001b[K     |███████▎                        | 204 kB 7.3 MB/s eta 0:00:01\r\u001b[K     |███████▋                        | 215 kB 7.3 MB/s eta 0:00:01\r\u001b[K     |████████                        | 225 kB 7.3 MB/s eta 0:00:01\r\u001b[K     |████████▎                       | 235 kB 7.3 MB/s eta 0:00:01\r\u001b[K     |████████▊                       | 245 kB 7.3 MB/s eta 0:00:01\r\u001b[K     |█████████                       | 256 kB 7.3 MB/s eta 0:00:01\r\u001b[K     |█████████▍                      | 266 kB 7.3 MB/s eta 0:00:01\r\u001b[K     |█████████▉                      | 276 kB 7.3 MB/s eta 0:00:01\r\u001b[K     |██████████▏                     | 286 kB 7.3 MB/s eta 0:00:01\r\u001b[K     |██████████▌                     | 296 kB 7.3 MB/s eta 0:00:01\r\u001b[K     |██████████▉                     | 307 kB 7.3 MB/s eta 0:00:01\r\u001b[K     |███████████▎                    | 317 kB 7.3 MB/s eta 0:00:01\r\u001b[K     |███████████▋                    | 327 kB 7.3 MB/s eta 0:00:01\r\u001b[K     |████████████                    | 337 kB 7.3 MB/s eta 0:00:01\r\u001b[K     |████████████▎                   | 348 kB 7.3 MB/s eta 0:00:01\r\u001b[K     |████████████▊                   | 358 kB 7.3 MB/s eta 0:00:01\r\u001b[K     |█████████████                   | 368 kB 7.3 MB/s eta 0:00:01\r\u001b[K     |█████████████▍                  | 378 kB 7.3 MB/s eta 0:00:01\r\u001b[K     |█████████████▊                  | 389 kB 7.3 MB/s eta 0:00:01\r\u001b[K     |██████████████▏                 | 399 kB 7.3 MB/s eta 0:00:01\r\u001b[K     |██████████████▌                 | 409 kB 7.3 MB/s eta 0:00:01\r\u001b[K     |██████████████▉                 | 419 kB 7.3 MB/s eta 0:00:01\r\u001b[K     |███████████████▏                | 430 kB 7.3 MB/s eta 0:00:01\r\u001b[K     |███████████████▋                | 440 kB 7.3 MB/s eta 0:00:01\r\u001b[K     |████████████████                | 450 kB 7.3 MB/s eta 0:00:01\r\u001b[K     |████████████████▎               | 460 kB 7.3 MB/s eta 0:00:01\r\u001b[K     |████████████████▋               | 471 kB 7.3 MB/s eta 0:00:01\r\u001b[K     |█████████████████               | 481 kB 7.3 MB/s eta 0:00:01\r\u001b[K     |█████████████████▍              | 491 kB 7.3 MB/s eta 0:00:01\r\u001b[K     |█████████████████▊              | 501 kB 7.3 MB/s eta 0:00:01\r\u001b[K     |██████████████████▏             | 512 kB 7.3 MB/s eta 0:00:01\r\u001b[K     |██████████████████▌             | 522 kB 7.3 MB/s eta 0:00:01\r\u001b[K     |██████████████████▉             | 532 kB 7.3 MB/s eta 0:00:01\r\u001b[K     |███████████████████▏            | 542 kB 7.3 MB/s eta 0:00:01\r\u001b[K     |███████████████████▋            | 552 kB 7.3 MB/s eta 0:00:01\r\u001b[K     |████████████████████            | 563 kB 7.3 MB/s eta 0:00:01\r\u001b[K     |████████████████████▎           | 573 kB 7.3 MB/s eta 0:00:01\r\u001b[K     |████████████████████▋           | 583 kB 7.3 MB/s eta 0:00:01\r\u001b[K     |█████████████████████           | 593 kB 7.3 MB/s eta 0:00:01\r\u001b[K     |█████████████████████▍          | 604 kB 7.3 MB/s eta 0:00:01\r\u001b[K     |█████████████████████▊          | 614 kB 7.3 MB/s eta 0:00:01\r\u001b[K     |██████████████████████          | 624 kB 7.3 MB/s eta 0:00:01\r\u001b[K     |██████████████████████▌         | 634 kB 7.3 MB/s eta 0:00:01\r\u001b[K     |██████████████████████▉         | 645 kB 7.3 MB/s eta 0:00:01\r\u001b[K     |███████████████████████▏        | 655 kB 7.3 MB/s eta 0:00:01\r\u001b[K     |███████████████████████▌        | 665 kB 7.3 MB/s eta 0:00:01\r\u001b[K     |████████████████████████        | 675 kB 7.3 MB/s eta 0:00:01\r\u001b[K     |████████████████████████▎       | 686 kB 7.3 MB/s eta 0:00:01\r\u001b[K     |████████████████████████▋       | 696 kB 7.3 MB/s eta 0:00:01\r\u001b[K     |█████████████████████████       | 706 kB 7.3 MB/s eta 0:00:01\r\u001b[K     |█████████████████████████▍      | 716 kB 7.3 MB/s eta 0:00:01\r\u001b[K     |█████████████████████████▊      | 727 kB 7.3 MB/s eta 0:00:01\r\u001b[K     |██████████████████████████      | 737 kB 7.3 MB/s eta 0:00:01\r\u001b[K     |██████████████████████████▍     | 747 kB 7.3 MB/s eta 0:00:01\r\u001b[K     |██████████████████████████▉     | 757 kB 7.3 MB/s eta 0:00:01\r\u001b[K     |███████████████████████████▏    | 768 kB 7.3 MB/s eta 0:00:01\r\u001b[K     |███████████████████████████▌    | 778 kB 7.3 MB/s eta 0:00:01\r\u001b[K     |████████████████████████████    | 788 kB 7.3 MB/s eta 0:00:01\r\u001b[K     |████████████████████████████▎   | 798 kB 7.3 MB/s eta 0:00:01\r\u001b[K     |████████████████████████████▋   | 808 kB 7.3 MB/s eta 0:00:01\r\u001b[K     |█████████████████████████████   | 819 kB 7.3 MB/s eta 0:00:01\r\u001b[K     |█████████████████████████████▍  | 829 kB 7.3 MB/s eta 0:00:01\r\u001b[K     |█████████████████████████████▊  | 839 kB 7.3 MB/s eta 0:00:01\r\u001b[K     |██████████████████████████████  | 849 kB 7.3 MB/s eta 0:00:01\r\u001b[K     |██████████████████████████████▍ | 860 kB 7.3 MB/s eta 0:00:01\r\u001b[K     |██████████████████████████████▉ | 870 kB 7.3 MB/s eta 0:00:01\r\u001b[K     |███████████████████████████████▏| 880 kB 7.3 MB/s eta 0:00:01\r\u001b[K     |███████████████████████████████▌| 890 kB 7.3 MB/s eta 0:00:01\r\u001b[K     |███████████████████████████████▉| 901 kB 7.3 MB/s eta 0:00:01\r\u001b[K     |████████████████████████████████| 904 kB 7.3 MB/s \n",
            "\u001b[?25hRequirement already satisfied: urllib3 in /usr/local/lib/python3.7/dist-packages (from Selenium) (1.24.3)\n",
            "Installing collected packages: Selenium\n",
            "Successfully installed Selenium-3.141.0\n"
          ],
          "name": "stdout"
        }
      ]
    },
    {
      "cell_type": "code",
      "metadata": {
        "id": "0tzTt7buiP1s"
      },
      "source": [
        "import hashlib\n",
        "import io \n",
        "from pathlib import Path \n",
        "from PIL import Image \n",
        "from selenium import webdriver\n",
        "\n",
        "# https://oxylabs.io/blog/scrape-images-from-website\n",
        "# "
      ],
      "execution_count": null,
      "outputs": []
    },
    {
      "cell_type": "code",
      "metadata": {
        "id": "bNMGerFNlX2M"
      },
      "source": [
        ""
      ],
      "execution_count": null,
      "outputs": []
    }
  ]
}